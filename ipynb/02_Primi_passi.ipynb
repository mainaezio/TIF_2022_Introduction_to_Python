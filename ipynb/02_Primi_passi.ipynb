{
 "cells": [
  {
   "cell_type": "markdown",
   "metadata": {},
   "source": [
    "Una calcolatrice molto potente\n",
    "=========================\n",
    "\n",
    "Il prompt di Python  e il Read-Eval-Print Loop (REPL)\n",
    "--------------------------------------------------------------\n",
    "\n",
    "\n",
    "Python è un linguaggio *interpretato*. Possiamo raccogliere una serie di comandi in file di testo e salvarlo su disco come un *Python program* (Normal Mode). Convenzionalmente questi file hanno l'estensione“`.py`”, per esempio `hello.py`.\n",
    "\n",
    "Possiamo anche sottomettere i singoli comandi al prompt di Python. I comandi vengoni immediatamente interpretati es eseguiti dal Python interpreter (Interactive Mode). Questo è molto utile per lo studente/ programmatore per capire come usare un certo comando (magari prima di inserire il comando in un  programma Python complesso). Il modo di procedere di Python può essere descritto come:<BR>\n",
    "\n",
    "    Leggere il comando --> Eseguirlo --> Stampare il risultato ottenuto --> ripetere il ciclo(Loop)\n",
    "\n",
    "in inglese REPL.\n",
    "\n",
    "Python fornisce una semplice interfaccia di comandi che inizia con un prompt; la linea su cui scrivere l'input comincia con `>>>`:\n",
    "\n",
    "\n",
    "    >>> 2 + 2\n",
    "    4\n",
    "\n",
    "Jupyter Lab/Notebook\n",
    "---------------------\n",
    "    \n",
    "Noi useremo una interfaccia più potente, il Jupyter Notebook. Il notebook è diviso in celle. I due tipi di celle che ci interessano sono il tipo `Code` dove si possono scrivere ed eseguire comandi, e il tipo `Markdown` che contengono testo. Lo stile del testo può essere specificato usando comandi Markdown e/o Latex.<BR>\n",
    "    Blocchi di codice hanno di fronte il prompt `In[#]` oppure `[#]`, dove `#` è un intero prograssivo che identifica la cella:"
   ]
  },
  {
   "cell_type": "code",
   "execution_count": null,
   "metadata": {},
   "outputs": [],
   "source": [
    "4 + 5"
   ]
  },
  {
   "cell_type": "markdown",
   "metadata": {},
   "source": [
    "In una cella ci possono essere più comandi, ognuno sulla propria linea.\n",
    "Il risultato dell'ultimo comando viene scritto sullo schermo (a meno che venga assegnato a una variabile. Ne parleremo più tardi)."
   ]
  },
  {
   "cell_type": "code",
   "execution_count": null,
   "metadata": {},
   "outputs": [],
   "source": [
    "4 + 5\n",
    "7 + 33"
   ]
  },
  {
   "cell_type": "markdown",
   "metadata": {},
   "source": [
    "Per stampare i risultati delle operazioni precedenti l'ultima possiamo usare `print`:"
   ]
  },
  {
   "cell_type": "code",
   "execution_count": null,
   "metadata": {},
   "outputs": [],
   "source": [
    "print(4 + 5)\n",
    "7 + 33"
   ]
  },
  {
   "cell_type": "markdown",
   "metadata": {},
   "source": [
    "Operazioni elementari\n",
    "-------------------\n",
    "\n",
    "Le operazioni elementari come l'addizione (`+`), sottrazione (`-`), moltiplicazione (`*`), divisione (`/`) e esponenziazione (`**`) funzionano come ci si aspetta. \n",
    "<div style = \"width:95%; padding:5px 10px 5px; border-style:solid; border-width:0px 0px 0px 10px; border-color:#ff0000; margin:20px 0px 10px 10px\">\n",
    "    <h4> Attenzione!</h4>\n",
    "    In un numero reale, il carattere che separa la parte intera da quella decimale è il punto `.`, non la virgola `,`!\n",
    "</div>"
   ]
  },
  {
   "cell_type": "code",
   "execution_count": null,
   "metadata": {},
   "outputs": [],
   "source": [
    "10 + 10000"
   ]
  },
  {
   "cell_type": "code",
   "execution_count": null,
   "metadata": {},
   "outputs": [],
   "source": [
    "42 - 1.5"
   ]
  },
  {
   "cell_type": "code",
   "execution_count": null,
   "metadata": {},
   "outputs": [],
   "source": [
    "47 * 11"
   ]
  },
  {
   "cell_type": "code",
   "execution_count": null,
   "metadata": {},
   "outputs": [],
   "source": [
    "10 / 0.5"
   ]
  },
  {
   "cell_type": "code",
   "execution_count": null,
   "metadata": {},
   "outputs": [],
   "source": [
    "2**2   "
   ]
  },
  {
   "cell_type": "code",
   "execution_count": null,
   "metadata": {},
   "outputs": [],
   "source": [
    "2**4"
   ]
  },
  {
   "cell_type": "markdown",
   "metadata": {},
   "source": [
    "Usando il fatto che $\\sqrt[n]{x} = x^{1/n}$, possiamo calcolare $\\sqrt{3} = 1.732050\\dots$ con il simbolo `**`:"
   ]
  },
  {
   "cell_type": "code",
   "execution_count": null,
   "metadata": {},
   "outputs": [],
   "source": [
    "3**0.5"
   ]
  },
  {
   "cell_type": "markdown",
   "metadata": {},
   "source": [
    "<div style = \"width:95%; padding:5px 10px 5px; border-style:solid; border-width:0px 0px 0px 10px; border-color:#b8d0d0; margin:20px 0px 10px 10px\">\n",
    "    <h4> Imparare Facendo</h4>\n",
    "<OL>\n",
    "<LI>Calcolate 100*4 e 100.*4 . In cosa differiscono i risultati?\n",
    "<LI>Calcolate 100/4 e 100./4 . I risultati differiscono?\n",
    "<LI>Calcolate il prodotto dei primi dieci numeri interi positivi (1,....,10).\n",
    "</OL>\n",
    "</div>"
   ]
  },
  {
   "cell_type": "markdown",
   "metadata": {},
   "source": [
    "All'interno delle celle di tipo `Code` è possibile inserire commenti (che vengono ignorati quando la cella viene eseguita)."
   ]
  },
  {
   "cell_type": "code",
   "execution_count": null,
   "metadata": {},
   "outputs": [],
   "source": [
    "# Questo è un commento\n",
    "2 + 2"
   ]
  },
  {
   "cell_type": "code",
   "execution_count": null,
   "metadata": {},
   "outputs": [],
   "source": [
    "2 + 2  # un commento sulla stessa di un comando"
   ]
  },
  {
   "cell_type": "markdown",
   "metadata": {},
   "source": [
    "Regole di precedenza\n",
    "--------------------\n",
    "`a < b` significa che `a` viene eseguita prima di `b`:<br>\n",
    "### &nbsp; &nbsp; &nbsp; &nbsp; &nbsp; &nbsp; &nbsp;  &nbsp; Funzioni < parentesi < esponenziazione < moltiplicazione, divisione < addizione, sottrazione"
   ]
  },
  {
   "cell_type": "markdown",
   "metadata": {},
   "source": [
    "<div style= 'padding:20px 20px 0px 150px;'>\n",
    "    <img src=\"../Humour/PEMDS.jpg\" width=\"500\" align=\"center\"/><BR>\n",
    "</div>"
   ]
  },
  {
   "cell_type": "code",
   "execution_count": null,
   "metadata": {},
   "outputs": [],
   "source": [
    "2**4/3     # Interpretato come (2**4)/3, non come 2**(4/3)"
   ]
  },
  {
   "cell_type": "markdown",
   "metadata": {},
   "source": [
    "Le parentesi tonde (e solo quelle tonde) servono per raggruppare:"
   ]
  },
  {
   "cell_type": "code",
   "execution_count": null,
   "metadata": {},
   "outputs": [],
   "source": [
    "2 * 10 + 5"
   ]
  },
  {
   "cell_type": "code",
   "execution_count": null,
   "metadata": {},
   "outputs": [],
   "source": [
    "2 * (10 + 5)"
   ]
  },
  {
   "cell_type": "markdown",
   "metadata": {},
   "source": [
    "<div style = \"width:95%; padding:5px 10px 5px; border-style:solid; border-width:0px 0px 0px 10px; border-color:#b8d0d0; margin:20px 0px 10px 10px\">\n",
    "    <h4> Imparare Facendo</h4>\n",
    "<OL>\n",
    "<LI>Calcolate la terza potenza della radice quadrata di 317.457 .\n",
    "<LI>Calcolate la radice cubica del quadrato del risultato precedente. Il risultato è quello atteso?\n",
    "</OL>\n",
    "</div>"
   ]
  },
  {
   "cell_type": "markdown",
   "metadata": {},
   "source": [
    "Funzioni intrinseche\n",
    "--------------------\n",
    "\n",
    "Sono funzioni sempre disponibili in Python. Per esempio, le funzioni che trasformano una variabile da un tipo ad un altro (Si veda [03_Tipi_di_Dati.ipynb](03_Tipi_di_Dati.ipynb)) oppure `max`, `min`,`abs`. La lista completa delle funzioni intrinseche si trova in [Built-in functions](https://docs.python.org/3/library/functions.html).<BR>\n",
    "    Qualche esempio:"
   ]
  },
  {
   "cell_type": "markdown",
   "metadata": {},
   "source": [
    "Se `a` e `b` sono interi, `a % b` fornisce il modulo di `a` rispetto a `b` cioè il resto della divisione di `a` per `b`. "
   ]
  },
  {
   "cell_type": "code",
   "execution_count": null,
   "metadata": {},
   "outputs": [],
   "source": [
    "8 % 5"
   ]
  },
  {
   "cell_type": "code",
   "execution_count": null,
   "metadata": {},
   "outputs": [],
   "source": [
    "100 % 9"
   ]
  },
  {
   "cell_type": "markdown",
   "metadata": {},
   "source": [
    "Se `a` e `b` sono interi, `a // b` fornisce la parte intera di `a/b`."
   ]
  },
  {
   "cell_type": "code",
   "execution_count": null,
   "metadata": {},
   "outputs": [],
   "source": [
    "9//2"
   ]
  },
  {
   "cell_type": "code",
   "execution_count": null,
   "metadata": {},
   "outputs": [],
   "source": [
    "23//8"
   ]
  },
  {
   "cell_type": "markdown",
   "metadata": {},
   "source": [
    "\n",
    "Funzioni Matematiche \n",
    "--------------------------\n",
    "\n",
    "Python fornisce le funzioni matematiche più comuni come seno (sin), coseno (cos), esponenziale (exp), logaritmo (log) e molte altre. Si trovano in un **modulo** chiamato `math`. Per utilizzare le funzioni dobbiamo *importare* il modulo:"
   ]
  },
  {
   "cell_type": "code",
   "execution_count": 2,
   "metadata": {},
   "outputs": [
    {
     "data": {
      "text/plain": [
       "2.718281828459045"
      ]
     },
     "execution_count": 2,
     "metadata": {},
     "output_type": "execute_result"
    }
   ],
   "source": [
    "import math\n",
    "math.exp(1.0)"
   ]
  },
  {
   "cell_type": "markdown",
   "metadata": {},
   "source": [
    "Usando la funzione `dir`, possiamo vedere la lista dei metodi e funzioni disponibili in un modulo:"
   ]
  },
  {
   "cell_type": "code",
   "execution_count": 3,
   "metadata": {},
   "outputs": [
    {
     "data": {
      "text/plain": [
       "['__doc__',\n",
       " '__file__',\n",
       " '__loader__',\n",
       " '__name__',\n",
       " '__package__',\n",
       " '__spec__',\n",
       " 'acos',\n",
       " 'acosh',\n",
       " 'asin',\n",
       " 'asinh',\n",
       " 'atan',\n",
       " 'atan2',\n",
       " 'atanh',\n",
       " 'ceil',\n",
       " 'comb',\n",
       " 'copysign',\n",
       " 'cos',\n",
       " 'cosh',\n",
       " 'degrees',\n",
       " 'dist',\n",
       " 'e',\n",
       " 'erf',\n",
       " 'erfc',\n",
       " 'exp',\n",
       " 'expm1',\n",
       " 'fabs',\n",
       " 'factorial',\n",
       " 'floor',\n",
       " 'fmod',\n",
       " 'frexp',\n",
       " 'fsum',\n",
       " 'gamma',\n",
       " 'gcd',\n",
       " 'hypot',\n",
       " 'inf',\n",
       " 'isclose',\n",
       " 'isfinite',\n",
       " 'isinf',\n",
       " 'isnan',\n",
       " 'isqrt',\n",
       " 'ldexp',\n",
       " 'lgamma',\n",
       " 'log',\n",
       " 'log10',\n",
       " 'log1p',\n",
       " 'log2',\n",
       " 'modf',\n",
       " 'nan',\n",
       " 'perm',\n",
       " 'pi',\n",
       " 'pow',\n",
       " 'prod',\n",
       " 'radians',\n",
       " 'remainder',\n",
       " 'sin',\n",
       " 'sinh',\n",
       " 'sqrt',\n",
       " 'tan',\n",
       " 'tanh',\n",
       " 'tau',\n",
       " 'trunc']"
      ]
     },
     "execution_count": 3,
     "metadata": {},
     "output_type": "execute_result"
    }
   ],
   "source": [
    "dir(math)"
   ]
  },
  {
   "cell_type": "markdown",
   "metadata": {},
   "source": [
    "La funzione `help` fornisce informazioni più dettagliate:"
   ]
  },
  {
   "cell_type": "code",
   "execution_count": null,
   "metadata": {},
   "outputs": [],
   "source": [
    "help(math)"
   ]
  },
  {
   "cell_type": "markdown",
   "metadata": {},
   "source": [
    "`help(nome_modulo.nome_funzione)` fornisce informazioni sulla funzione `nome_funzione` contenuta nel modulo `nome_modulo`:"
   ]
  },
  {
   "cell_type": "code",
   "execution_count": null,
   "metadata": {},
   "outputs": [],
   "source": [
    "help(math.exp)"
   ]
  },
  {
   "cell_type": "markdown",
   "metadata": {},
   "source": [
    "`help(nome_variabile)` mostra tutti i metodi e funzioni che si possono far agire sulla variabile:"
   ]
  },
  {
   "cell_type": "code",
   "execution_count": null,
   "metadata": {},
   "outputs": [],
   "source": [
    "a = 37.79\n",
    "help(a)"
   ]
  },
  {
   "cell_type": "markdown",
   "metadata": {},
   "source": [
    "Il modulo `math` definisce le costanti `π` e `e`:"
   ]
  },
  {
   "cell_type": "code",
   "execution_count": null,
   "metadata": {},
   "outputs": [],
   "source": [
    "math.pi"
   ]
  },
  {
   "cell_type": "code",
   "execution_count": null,
   "metadata": {},
   "outputs": [],
   "source": [
    "math.e"
   ]
  },
  {
   "cell_type": "code",
   "execution_count": null,
   "metadata": {},
   "outputs": [],
   "source": [
    "math.cos(math.pi)     # L'argomento delle funzioni trigonometriche è in radianti"
   ]
  },
  {
   "cell_type": "code",
   "execution_count": null,
   "metadata": {},
   "outputs": [],
   "source": [
    "math.log(math.e)      # La funzione log ha base \"e\""
   ]
  },
  {
   "cell_type": "markdown",
   "metadata": {},
   "source": [
    "<div style = \"width:95%; padding:5px 10px 5px; border-style:solid; border-width:0px 0px 0px 10px; border-color:#b8d0d0; margin:20px 0px 10px 10px\">\n",
    "    <h4> Imparare Facendo</h4>\n",
    "<OL>\n",
    "<LI>Importate <b>math</b>.\n",
    "<LI>Calcolate il seno di $\\pi/3$. Calcolate il seno di $2 \\pi/3$.\n",
    "<LI>Calcolate il coseno iperbolico del logaritmo naturale di 133.\n",
    "<LI>Calcolate la somma del coseno al quadrato di 43 e del seno al quadrato di 43.\n",
    "<LI>Calcolate la differenza fra il coseno iperbolico al quadrato di 77 e il seno iperbolico al quadrato di 77.\n",
    "<LI>Cercate informazioni sulla funzione <b>degrees</b> usando <b>help</b>.\n",
    "<LI>Cercate informazioni sulla funzione <b>factorial</b> usando <b>help</b>.\n",
    "<LI>Calcolate il fattoriale di 0.47 . \n",
    "</OL>\n",
    "</div>"
   ]
  },
  {
   "cell_type": "markdown",
   "metadata": {},
   "source": [
    "Variabili\n",
    "----------\n",
    "\n",
    "Una  *variabile* può essere usare per immagazzinare il valore di un oggetto. In Python, tutti i numeri (e tutto il resto, incluse funzioni moduli e files) sono oggetti. Una variabile viene creata attraverso una assegnazione. Per assegnare il valore a una variabile si usa il segno (’=’).<BR>\n",
    "**La struttura di una assegnazione è sempre: `nome_variabile = valore`.**<BR>\n",
    "I nomi delle variabili possono contenere solo i caratteri a-z, A-Z, 0-9 e l'underscore \"_\".\n",
    "Il primo carattere del nome di una variabile non può essere un numero. `a1b_` è legale; `1a` e `a(cd` non lo sono."
   ]
  },
  {
   "cell_type": "code",
   "execution_count": null,
   "metadata": {},
   "outputs": [],
   "source": [
    "x = 0.5"
   ]
  },
  {
   "cell_type": "markdown",
   "metadata": {},
   "source": [
    "Una volta che la variabile `x` è stata creata assegnandogli il valore 0.5, come nell'esempio, possiamo utilizzarla in ulteriori comandi:"
   ]
  },
  {
   "cell_type": "code",
   "execution_count": null,
   "metadata": {},
   "outputs": [],
   "source": [
    "x*3"
   ]
  },
  {
   "cell_type": "code",
   "execution_count": null,
   "metadata": {},
   "outputs": [],
   "source": [
    "x**2"
   ]
  },
  {
   "cell_type": "code",
   "execution_count": null,
   "metadata": {},
   "outputs": [],
   "source": [
    "width = 20\n",
    "height = 5 * 9\n",
    "width * height"
   ]
  },
  {
   "cell_type": "markdown",
   "metadata": {},
   "source": [
    "Una variabile viene sovrascritta quando le viene assegnato un nuovo valore:"
   ]
  },
  {
   "cell_type": "code",
   "execution_count": null,
   "metadata": {},
   "outputs": [],
   "source": [
    "width = 15.7\n",
    "width"
   ]
  },
  {
   "cell_type": "code",
   "execution_count": null,
   "metadata": {},
   "outputs": [],
   "source": [
    "width * height"
   ]
  },
  {
   "cell_type": "markdown",
   "metadata": {},
   "source": [
    "È possibile assegnare un valore a più variabili contemporaneamente:"
   ]
  },
  {
   "cell_type": "code",
   "execution_count": null,
   "metadata": {},
   "outputs": [],
   "source": [
    "x = y = z = 0  # inizializza x, y e z a 0\n",
    "x"
   ]
  },
  {
   "cell_type": "code",
   "execution_count": null,
   "metadata": {},
   "outputs": [],
   "source": [
    "y"
   ]
  },
  {
   "cell_type": "code",
   "execution_count": null,
   "metadata": {},
   "outputs": [],
   "source": [
    "z"
   ]
  },
  {
   "cell_type": "markdown",
   "metadata": {},
   "source": [
    "Le variabili devono essere create (assegnando loro un valore) prima di poterle utilizzare, altrimenti si ha un errore :"
   ]
  },
  {
   "cell_type": "code",
   "execution_count": null,
   "metadata": {},
   "outputs": [],
   "source": [
    "# Tentativo di accedere ad una variabile non definita\n",
    "n"
   ]
  },
  {
   "cell_type": "markdown",
   "metadata": {},
   "source": [
    "Python è \"case sensitive\". `var`, `Var` e `vAr` sono variabili diverse:"
   ]
  },
  {
   "cell_type": "code",
   "execution_count": null,
   "metadata": {},
   "outputs": [],
   "source": [
    "Var = 1\n",
    "var = 33"
   ]
  },
  {
   "cell_type": "code",
   "execution_count": null,
   "metadata": {},
   "outputs": [],
   "source": [
    "print('Var:',Var)\n",
    "print('var:',var)"
   ]
  },
  {
   "cell_type": "markdown",
   "metadata": {},
   "source": [
    "###  Un po' di dettagli e di terminologia\n",
    "\n",
    "Per essere precisi, quando scrivete"
   ]
  },
  {
   "cell_type": "code",
   "execution_count": null,
   "metadata": {},
   "outputs": [],
   "source": [
    "x = 0.5"
   ]
  },
  {
   "cell_type": "markdown",
   "metadata": {},
   "source": [
    "questo è quello che succede.<br/>\n",
    "Per prima cosa, Python crea l'oggetto `0.5`. Tutto in Python è un oggetto, e quindi lo è anche il numero reale (floating point) 0.5. Questo oggetto viene immagazzinato da qualche parte in memoria. Poi Python *lega un nome all'oggetto* (*binds a name to the object*). Il nome è `x`, e spesso ci si riferisce a `x` come a una variabile, un oggetto, o persino il valore 0.5. Tuttavia, tecnicamente, `x` è il nome che è legato all'oggetto `0.5`. Un altro modo per dirlo è che `x` è una referenza (reference) all'oggetto.\n",
    "\n",
    "Mentre in genere è sufficiente pensare di assegnare 0.5 alla variabile x, ci sono situazioni in cui è necessario ricordarsi di quello che effettivamente succede. In particolare, quando passiamo, come argomento a delle funzioni, delle reference a oggetti , dobbiamo essere coscienti che le funzioni possono agire sull'oggetto piuttosto che su una copia dell'oggetto. Tutto questo verrâ esaminato con maggiori dettagli in 06_funzioni_moduli."
   ]
  },
  {
   "cell_type": "markdown",
   "metadata": {},
   "source": [
    "Equazioni Impossibili\n",
    "-------------------------\n",
    "\n",
    "In un programma troviamo spesso espressioni come"
   ]
  },
  {
   "cell_type": "code",
   "execution_count": null,
   "metadata": {},
   "outputs": [],
   "source": [
    "x = x + 1"
   ]
  },
  {
   "cell_type": "markdown",
   "metadata": {},
   "source": [
    "Se interpretiamo questa espressione come una equazione, come siamo abituati a fare in matematica, $x = x + 1$\n",
    "potremmo sottrarre $x$ da entrambi i membri, ottenendo\n",
    "0 = 1.\n",
    "Sappiamo che questo non è vero quindi da qualche parte c'è qualcosa che non torna. \n",
    "\n",
    "La risposta è che le “equazioni“ nei programmi non sono equazioni ma *assegnazioni*. Devono sempre essere comprese come una sequenza di due passi:\n",
    "\n",
    "1.  Calcola il valore dell'espressione a destra dell'uguale\n",
    "\n",
    "2.  Assegna questo valore alla variabile il cui nome appare sulla sinistra. (In Python: lega il nome sulla sinistra all'oggetto che si trova a destra.)\n",
    "\n",
    "Qualche testo di Informatica usa la notazione seguente per esprimere l'assegnazione e evitare confusioni con le equazioni matematiche:\n",
    "\n",
    "$$x \\leftarrow x + 1$$\n",
    "\n",
    "Applichiamo la procedura a due passi all'espressione `x = x + 1` vista sopra:\n",
    "\n",
    "1.  Calcola il valore dell'espressione a destra dell'uguale: per farlo dobbiamo conoscere il valore attuale di `x`. Assumiamo che `x` attualmente sia `4`. In questo caso, il membro di destra, `x+1`, viene valutato come `5`.\n",
    "\n",
    "2.  Assegna questo valore (i.e. `5`) alla variabile il cui nome appare sulla sinistra, `x`.\n",
    "\n",
    "Controlliamo che questa interpretazione sia corretta:"
   ]
  },
  {
   "cell_type": "code",
   "execution_count": null,
   "metadata": {},
   "outputs": [],
   "source": [
    "x = 4     \n",
    "x = x + 1\n",
    "x"
   ]
  },
  {
   "cell_type": "markdown",
   "metadata": {},
   "source": [
    "### La notazione  `+=` \n",
    "\n",
    "È molto comune dover aumentare la variabile `x` di una quantità costante `c`. Possiamo scrivere:\n",
    "\n",
    "```python\n",
    "x += c\n",
    "```\n",
    "\n",
    "invece di\n",
    "\n",
    "```python\n",
    "x = x + c\n",
    "```"
   ]
  },
  {
   "cell_type": "markdown",
   "metadata": {},
   "source": [
    "Il nostro esempio iniziale avrebbe potuto essere scritto come"
   ]
  },
  {
   "cell_type": "code",
   "execution_count": null,
   "metadata": {},
   "outputs": [],
   "source": [
    "x = 4\n",
    "x += 1\n",
    "x"
   ]
  },
  {
   "cell_type": "markdown",
   "metadata": {},
   "source": [
    "Lo stesso tipo di operatore è definito per la moltiplicazione per una costante (`*=`), suttrazione di una costante (`-=`) e divisione per una costante (`/=`).\n",
    "\n",
    "Notate che l'ordine fra `+` e `=` è rilevante:"
   ]
  },
  {
   "cell_type": "code",
   "execution_count": null,
   "metadata": {},
   "outputs": [],
   "source": [
    "x += 1"
   ]
  },
  {
   "cell_type": "markdown",
   "metadata": {},
   "source": [
    "incrementa la variabile `x` di uno mentre"
   ]
  },
  {
   "cell_type": "code",
   "execution_count": null,
   "metadata": {},
   "outputs": [],
   "source": [
    "x =+ 1"
   ]
  },
  {
   "cell_type": "markdown",
   "metadata": {},
   "source": [
    "assegna il valore `+1` alla variabile `x`."
   ]
  },
  {
   "cell_type": "markdown",
   "metadata": {},
   "source": [
    "<div style = \"width:95%; padding:5px 10px 5px; border-style:solid; border-width:0px 0px 0px 10px; border-color:#b8d0d0; margin:20px 0px 10px 10px\">\n",
    "    <h4> Imparare Facendo</h4>\n",
    "<OL>\n",
    "<LI>Assegnate il valore 3.2 alla variabile <b>x</b>.\n",
    "<LI>Sommate a <b>x</b>, uno alla volta, 1.3, 0.5, 1.7 .\n",
    "<LI>Ad ogni passaggio stampate il valore di <b>x</b>.\n",
    "</OL>\n",
    "</div>"
   ]
  },
  {
   "cell_type": "markdown",
   "metadata": {},
   "source": [
    "Come definire una funzione\n",
    "--------------------------------\n",
    "\n",
    "Le funzioni servono a:\n",
    "\n",
    "- racchiudere in un unico contenitore una successione di comandi da utilizzare più volte all'interno di un programma oppure in programmi diversi.\n",
    "\n",
    "- Spezzare le operazioni necessarie per arrivare al risultato in unità più piccole che possono essere verificate singolarmente.\n",
    "\n",
    "Il format generico della definizione di una funzione è:\n",
    "\n",
    "```python\n",
    "def my_function(arg1, arg2, ..., argn):        # Notate i \":\" finali\n",
    "    \"\"\"Optional docstring.\"\"\"\n",
    "\n",
    "    # Implementation of the function\n",
    "    comando1\n",
    "    comando2\n",
    "\n",
    "    return result1, result2 ...  # optional                 # Notate l'indentazione di 4 spazi\n",
    "\n",
    "#this is not part of the function\n",
    "some_command                                  # Notate l'assenza di indentazione\n",
    "```\n",
    "\n",
    "Le parentesi dopo il nome della funzione sono necessarie. Se una funzione non ha argomenti si scrive:\n",
    "```python\n",
    "def my_function2():\n",
    "```\n",
    "\n",
    "Se si omettono le parentesi si ha un errore:"
   ]
  },
  {
   "cell_type": "code",
   "execution_count": null,
   "metadata": {},
   "outputs": [],
   "source": [
    "def pippo:\n",
    "    pass"
   ]
  },
  {
   "cell_type": "markdown",
   "metadata": {},
   "source": [
    "#### Esempio 1\n",
    "Una funzione che prende come input due numeri e ne restituisce la somma:"
   ]
  },
  {
   "cell_type": "code",
   "execution_count": null,
   "metadata": {},
   "outputs": [],
   "source": [
    "def my_sum(a,b):\n",
    "    c = a+b\n",
    "    return c"
   ]
  },
  {
   "cell_type": "code",
   "execution_count": null,
   "metadata": {},
   "outputs": [],
   "source": [
    "my_sum(4,5)"
   ]
  },
  {
   "cell_type": "markdown",
   "metadata": {},
   "source": [
    "Per poter utilizzare il risultato di una funzione all'esterno della funzione stessa è necessario assegnarlo ad una variabile:"
   ]
  },
  {
   "cell_type": "code",
   "execution_count": null,
   "metadata": {},
   "outputs": [],
   "source": [
    "f = my_sum(3.7,-2.4)\n",
    "f2 = f1*f1\n",
    "print(f2)"
   ]
  },
  {
   "cell_type": "markdown",
   "metadata": {},
   "source": [
    "#### Esempio 2\n",
    "Una funzione senza input che restituisce il valore di $\\pi/2$:"
   ]
  },
  {
   "cell_type": "code",
   "execution_count": null,
   "metadata": {},
   "outputs": [],
   "source": [
    "def my_half_pi():    \n",
    "    return 3.141592653589793/2.\n",
    "\n",
    "my_half_pi()"
   ]
  },
  {
   "cell_type": "markdown",
   "metadata": {},
   "source": [
    "#### Esempio 3\n",
    "Una funzione che restituisce due valori:"
   ]
  },
  {
   "cell_type": "code",
   "execution_count": null,
   "metadata": {},
   "outputs": [],
   "source": [
    "def my_sum_dif(a,b):\n",
    "    sum = a + b\n",
    "    dif = a - b\n",
    "    return sum, dif\n",
    "\n",
    "p = 8\n",
    "q = 2\n",
    "r1,r2 = my_sum_dif(p,q)\n",
    "print(p,'+',q,'=',r1)\n",
    "print(p,'-',q,'=',r2)"
   ]
  },
  {
   "cell_type": "markdown",
   "metadata": {},
   "source": [
    "#### Esempio 4\n",
    "Una funzione che restituisce le soluzioni di una equazione algebrica di secondo grado, cioè i valori di `x` tali che `a*x**2 + b*x +c = 0`. Gli input necessari sono `a, b, c`."
   ]
  },
  {
   "cell_type": "code",
   "execution_count": null,
   "metadata": {},
   "outputs": [],
   "source": [
    "import math\n",
    "\n",
    "def my_sol_eq2(a,b,c):\n",
    "    disc = math.sqrt(b*b-4.*a*c)\n",
    "    sol1 = (-b+disc)/2./a\n",
    "    sol2 = (-b-disc)/2./a\n",
    "    return sol1,sol2\n",
    "\n",
    "a = 1\n",
    "b = 2\n",
    "c =1\n",
    "r1,r2 =  my_sol_eq2(a,b,c)\n",
    "print('sol+ :',r1)\n",
    "print('sol2 :',r2)"
   ]
  },
  {
   "cell_type": "markdown",
   "metadata": {},
   "source": [
    "<div style = \"width:95%; padding:5px 10px 5px; border-style:solid; border-width:0px 0px 0px 10px; border-color:#ff8c00; margin:20px 0px 10px 10px\">\n",
    "    La funzione `my_sol_eq2` darà sempre la risposta corretta?\n",
    "</div>"
   ]
  },
  {
   "cell_type": "markdown",
   "metadata": {},
   "source": [
    "Un errore comune\n",
    "----------------\n",
    "**Stampare un risultato e restituire/ritornare un risultato non sono equivalenti.**"
   ]
  },
  {
   "cell_type": "code",
   "execution_count": null,
   "metadata": {},
   "outputs": [],
   "source": [
    "def square1(a):\n",
    "    sq = a*a\n",
    "    return print(sq)"
   ]
  },
  {
   "cell_type": "code",
   "execution_count": null,
   "metadata": {},
   "outputs": [],
   "source": [
    "Testiamo la funzione:"
   ]
  },
  {
   "cell_type": "code",
   "execution_count": null,
   "metadata": {},
   "outputs": [],
   "source": [
    "square1(3)"
   ]
  },
  {
   "cell_type": "markdown",
   "metadata": {},
   "source": [
    "Apparentemente `square` funziona, ma, in realtà, stampa solo il risultato sullo schermo, NON restituisce il valore.\n",
    "Per verificarlo, assegniamo quanto restituito dalla funzione ad una variabile o poi stampiamone il contenuto: "
   ]
  },
  {
   "cell_type": "code",
   "execution_count": null,
   "metadata": {},
   "outputs": [],
   "source": [
    "d = square1(5)\n",
    "print('Il valore della variabile d è:',d)"
   ]
  },
  {
   "cell_type": "markdown",
   "metadata": {},
   "source": [
    "Il comando `return print(sq)` **STAMPA** sullo schermo il risultato ma **RESTITUISCE** `None`.\n",
    "\n",
    "Il modo corretto di fare è:"
   ]
  },
  {
   "cell_type": "code",
   "execution_count": null,
   "metadata": {},
   "outputs": [],
   "source": [
    "def square2(a):\n",
    "    sq = a*a\n",
    "    return sq"
   ]
  },
  {
   "cell_type": "code",
   "execution_count": null,
   "metadata": {},
   "outputs": [],
   "source": [
    "square2(3) #"
   ]
  },
  {
   "cell_type": "code",
   "execution_count": null,
   "metadata": {},
   "outputs": [],
   "source": [
    "d = square2(5)\n",
    "print('Il valore della variabile d è:',d)"
   ]
  },
  {
   "cell_type": "markdown",
   "metadata": {},
   "source": [
    "Se non c'è il `return` la funzione restituisce `None`:"
   ]
  },
  {
   "cell_type": "code",
   "execution_count": null,
   "metadata": {},
   "outputs": [],
   "source": [
    "def square3(a):\n",
    "    sq = a*a\n",
    "\n",
    "d=square3(3)\n",
    "print('La funzione square3 restituisce:',d)"
   ]
  },
  {
   "cell_type": "markdown",
   "metadata": {},
   "source": [
    "<div style = \"width:95%; padding:5px 10px 5px; border-style:solid; border-width:0px 0px 0px 10px; border-color:#b8d0d0; margin:20px 0px 10px 10px\">\n",
    "    <h4> Imparare Facendo</h4>\n",
    "<OL>\n",
    "    <LI>Costruite una funzione <b>ipotenusa</b> di argomenti, <b>c1</b> e <b>c2</b>, che date le lunghezze di due cateti restituisca la lunghezza dell'ipotenusa del triangolo rettangolo corrispondente. Testate la funzione con due cateti di lunghezza 3. e 4. .\n",
    "<br>&nbsp;\n",
    "<LI>Costruite una funzione <b>my_min</b> con due argomenti, <b>a</b> e <b>b</b>, che restituisca il più piccolo dei due argomenti.\n",
    "    <OL type=\"a\">\n",
    "    <LI> Assegnate alla variabile <b>x</b> il valore 3/7 e alla variabile <b>y</b> il valore 7/16. \n",
    "    <LI> Utilizzate <b>my_min</b> per determinare il minore fra <b>x</b> e <b>y</b>.\n",
    "    <LI> Assegnate il valore restituito da <b>my_min</b> alla variabile <b>z</b>.\n",
    "    <LI> Stampate il valore del quadrato di <b>z</b>. \n",
    "    </OL>\n",
    "</OL>\n",
    "</div>"
   ]
  },
  {
   "cell_type": "markdown",
   "metadata": {},
   "source": [
    "<div style= 'padding:20px 20px 0px 150px;'>\n",
    "    <img src=\"../Humour/ProgrammerMood.jpg\" width=\"500\" align=\"center\"/><BR>\n",
    "</div>"
   ]
  },
  {
   "cell_type": "markdown",
   "metadata": {},
   "source": [
    "### Eseguire uno script dallo shell di Python\n",
    "\n",
    "Per lanciare lo shell di Python, dalla linea di comandi eseguire (assumendo che il \"prompt\" sia \"$\"):\n",
    "\n",
    "```bash\n",
    "$ python <Return>\n",
    "```\n",
    "\n",
    "La risposta dovrebbe essere simile a:\n",
    "\n",
    "```bash\n",
    "Python 3.7.1 (default, Dec 14 2018, 13:28:58) \n",
    "[Clang 4.0.1 (tags/RELEASE_401/final)] :: Anaconda, Inc. on darwin\n",
    "Type \"help\", \"copyright\", \"credits\" or \"license\" for more information.\n",
    ">>>\n",
    "```\n",
    "\">>>\" è il \"prompt\" di Python in modalità interattiva.\n",
    "\n",
    "Per eseguire lo script pippo.py eseguire:\n",
    "```bash\n",
    ">>> import pippo <Return>\n",
    "```\n",
    "\n",
    "### Eseguire uno script dalla linea di comando\n",
    "\n",
    "Dalla linea di comandi eseguire:\n",
    "```bash\n",
    "$ python pippo.py <Return>\n",
    "```"
   ]
  },
  {
   "cell_type": "markdown",
   "metadata": {},
   "source": [
    "<div style= 'padding:20px 20px 0px 150px;'>\n",
    "    <img src=\"../Humour/ComputerEngineer_Surgeon.jpg\" width=\"500\" align=\"center\"/>\n",
    "</div>   "
   ]
  },
  {
   "cell_type": "markdown",
   "metadata": {},
   "source": [
    "<div style = \"width:95%; padding:5px 10px 5px; border-style:solid; border-width:0px 0px 0px 10px; border-color:#b8d0d0; margin:20px 0px 10px 10px\">\n",
    "    <h4> Imparare Facendo</h4>\n",
    "    Create un file <b>test.py</b> nella cartella <b>ShellPrograms</b> usando un editor di programmazione (Per esempio Notepad su Windows o TextEdit su Mac). In <b>test.py</b> inserite i comandi per:\n",
    "<OL>\n",
    "<LI>assegnare il valore 17 alla variabile <b>a</b>;\n",
    "<LI>assegnare alla variabile <b>b</b> il quadrato di <b>a</b>;\n",
    "<LI>stampare il valore di <b>b</b>. \n",
    "</OL>\n",
    "Salvate e chiudete il file. Aprite una finestra di comando ed eseguite il file con il comando <b>python test.py</b>.\n",
    "    <br>\n",
    "Eseguite il comando <b>python</b> per lanciare lo shell di python. Eseguite lo script con il comando <b>import test.py</b>\n",
    "    <br>\n",
    "    Uscite dallo shell di python con il comando <b>quit()</b>.\n",
    "</div>"
   ]
  },
  {
   "cell_type": "code",
   "execution_count": null,
   "metadata": {},
   "outputs": [],
   "source": []
  }
 ],
 "metadata": {
  "hide_input": false,
  "kernelspec": {
   "display_name": "Python 3",
   "language": "python",
   "name": "python3"
  },
  "language_info": {
   "codemirror_mode": {
    "name": "ipython",
    "version": 3
   },
   "file_extension": ".py",
   "mimetype": "text/x-python",
   "name": "python",
   "nbconvert_exporter": "python",
   "pygments_lexer": "ipython3",
   "version": "3.8.5"
  },
  "toc": {
   "base_numbering": 1,
   "nav_menu": {},
   "number_sections": true,
   "sideBar": true,
   "skip_h1_title": true,
   "title_cell": "Table of Contents",
   "title_sidebar": "Contents",
   "toc_cell": false,
   "toc_position": {},
   "toc_section_display": true,
   "toc_window_display": false
  },
  "varInspector": {
   "cols": {
    "lenName": 16,
    "lenType": 16,
    "lenVar": 40
   },
   "kernels_config": {
    "python": {
     "delete_cmd_postfix": "",
     "delete_cmd_prefix": "del ",
     "library": "var_list.py",
     "varRefreshCmd": "print(var_dic_list())"
    },
    "r": {
     "delete_cmd_postfix": ") ",
     "delete_cmd_prefix": "rm(",
     "library": "var_list.r",
     "varRefreshCmd": "cat(var_dic_list()) "
    }
   },
   "types_to_exclude": [
    "module",
    "function",
    "builtin_function_or_method",
    "instance",
    "_Feature"
   ],
   "window_display": false
  }
 },
 "nbformat": 4,
 "nbformat_minor": 4
}
